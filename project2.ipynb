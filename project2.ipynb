{
 "cells": [
  {
   "cell_type": "markdown",
   "id": "7c28646a",
   "metadata": {},
   "source": [
    "# Исследование надежности заемщиков."
   ]
  },
  {
   "cell_type": "markdown",
   "id": "62b78ca6",
   "metadata": {},
   "source": [
    "### Шаг 1. Обзор данных"
   ]
  },
  {
   "cell_type": "code",
   "execution_count": 1,
   "id": "9c60221f",
   "metadata": {},
   "outputs": [],
   "source": [
    "import pandas as pd"
   ]
  },
  {
   "cell_type": "code",
   "execution_count": 2,
   "id": "f4e1b816",
   "metadata": {},
   "outputs": [],
   "source": [
    "data = pd.read_csv(\"data.csv\")"
   ]
  },
  {
   "cell_type": "markdown",
   "id": "e22cc4a6",
   "metadata": {},
   "source": [
    "# Задача: выяснить, влияет ли семейное положение клиента и количество детей на факт погашения кредита в срок\n",
    "\n",
    "Необходимо ответить на следующие вопросы:\n",
    "* Есть ли зависимость между количеством детей и возвратом кредита в срок?\n",
    "* Есть ли зависимость между семейным положением и возвратом кредита в срок?\n",
    "* Есть ли зависимость между уровнем дохода и возвратом кредита в срок?\n",
    "* Как разные цели кредита влияют на его возврат в срок?\n",
    "\n",
    "Имеется датасет из банка, согласно описанию он имеет следующие столбцы:\n",
    "* `children` — количество детей в семье\n",
    "* `days_employed` — общий трудовой стаж в днях\n",
    "* `dob_years` — возраст клиента в годах\n",
    "* `education` — уровень образования клиента\n",
    "* `education_id` — идентификатор уровня образования\n",
    "* `family_status` — семейное положение\n",
    "* `family_status_id` — идентификатор семейного положения\n",
    "* `gender` — пол клиента\n",
    "* `income_type` — тип занятости\n",
    "* `debt` — имел ли задолженность по возврату кредитов\n",
    "* `total_income` — ежемесячный доход\n",
    "* `purpose` — цель получения кредита"
   ]
  },
  {
   "cell_type": "markdown",
   "id": "61184836",
   "metadata": {},
   "source": [
    "Рассмотрим первые 5 строк таблиицы:"
   ]
  },
  {
   "cell_type": "code",
   "execution_count": 3,
   "id": "d006cb74",
   "metadata": {},
   "outputs": [
    {
     "data": {
      "text/html": [
       "<div>\n",
       "<style scoped>\n",
       "    .dataframe tbody tr th:only-of-type {\n",
       "        vertical-align: middle;\n",
       "    }\n",
       "\n",
       "    .dataframe tbody tr th {\n",
       "        vertical-align: top;\n",
       "    }\n",
       "\n",
       "    .dataframe thead th {\n",
       "        text-align: right;\n",
       "    }\n",
       "</style>\n",
       "<table border=\"1\" class=\"dataframe\">\n",
       "  <thead>\n",
       "    <tr style=\"text-align: right;\">\n",
       "      <th></th>\n",
       "      <th>children</th>\n",
       "      <th>days_employed</th>\n",
       "      <th>dob_years</th>\n",
       "      <th>education</th>\n",
       "      <th>education_id</th>\n",
       "      <th>family_status</th>\n",
       "      <th>family_status_id</th>\n",
       "      <th>gender</th>\n",
       "      <th>income_type</th>\n",
       "      <th>debt</th>\n",
       "      <th>total_income</th>\n",
       "      <th>purpose</th>\n",
       "    </tr>\n",
       "  </thead>\n",
       "  <tbody>\n",
       "    <tr>\n",
       "      <th>0</th>\n",
       "      <td>1</td>\n",
       "      <td>-8437.673028</td>\n",
       "      <td>42</td>\n",
       "      <td>высшее</td>\n",
       "      <td>0</td>\n",
       "      <td>женат / замужем</td>\n",
       "      <td>0</td>\n",
       "      <td>F</td>\n",
       "      <td>сотрудник</td>\n",
       "      <td>0</td>\n",
       "      <td>253875.639453</td>\n",
       "      <td>покупка жилья</td>\n",
       "    </tr>\n",
       "    <tr>\n",
       "      <th>1</th>\n",
       "      <td>1</td>\n",
       "      <td>-4024.803754</td>\n",
       "      <td>36</td>\n",
       "      <td>среднее</td>\n",
       "      <td>1</td>\n",
       "      <td>женат / замужем</td>\n",
       "      <td>0</td>\n",
       "      <td>F</td>\n",
       "      <td>сотрудник</td>\n",
       "      <td>0</td>\n",
       "      <td>112080.014102</td>\n",
       "      <td>приобретение автомобиля</td>\n",
       "    </tr>\n",
       "    <tr>\n",
       "      <th>2</th>\n",
       "      <td>0</td>\n",
       "      <td>-5623.422610</td>\n",
       "      <td>33</td>\n",
       "      <td>Среднее</td>\n",
       "      <td>1</td>\n",
       "      <td>женат / замужем</td>\n",
       "      <td>0</td>\n",
       "      <td>M</td>\n",
       "      <td>сотрудник</td>\n",
       "      <td>0</td>\n",
       "      <td>145885.952297</td>\n",
       "      <td>покупка жилья</td>\n",
       "    </tr>\n",
       "    <tr>\n",
       "      <th>3</th>\n",
       "      <td>3</td>\n",
       "      <td>-4124.747207</td>\n",
       "      <td>32</td>\n",
       "      <td>среднее</td>\n",
       "      <td>1</td>\n",
       "      <td>женат / замужем</td>\n",
       "      <td>0</td>\n",
       "      <td>M</td>\n",
       "      <td>сотрудник</td>\n",
       "      <td>0</td>\n",
       "      <td>267628.550329</td>\n",
       "      <td>дополнительное образование</td>\n",
       "    </tr>\n",
       "    <tr>\n",
       "      <th>4</th>\n",
       "      <td>0</td>\n",
       "      <td>340266.072047</td>\n",
       "      <td>53</td>\n",
       "      <td>среднее</td>\n",
       "      <td>1</td>\n",
       "      <td>гражданский брак</td>\n",
       "      <td>1</td>\n",
       "      <td>F</td>\n",
       "      <td>пенсионер</td>\n",
       "      <td>0</td>\n",
       "      <td>158616.077870</td>\n",
       "      <td>сыграть свадьбу</td>\n",
       "    </tr>\n",
       "  </tbody>\n",
       "</table>\n",
       "</div>"
      ],
      "text/plain": [
       "   children  days_employed  dob_years education  education_id  \\\n",
       "0         1   -8437.673028         42    высшее             0   \n",
       "1         1   -4024.803754         36   среднее             1   \n",
       "2         0   -5623.422610         33   Среднее             1   \n",
       "3         3   -4124.747207         32   среднее             1   \n",
       "4         0  340266.072047         53   среднее             1   \n",
       "\n",
       "      family_status  family_status_id gender income_type  debt   total_income  \\\n",
       "0   женат / замужем                 0      F   сотрудник     0  253875.639453   \n",
       "1   женат / замужем                 0      F   сотрудник     0  112080.014102   \n",
       "2   женат / замужем                 0      M   сотрудник     0  145885.952297   \n",
       "3   женат / замужем                 0      M   сотрудник     0  267628.550329   \n",
       "4  гражданский брак                 1      F   пенсионер     0  158616.077870   \n",
       "\n",
       "                      purpose  \n",
       "0               покупка жилья  \n",
       "1     приобретение автомобиля  \n",
       "2               покупка жилья  \n",
       "3  дополнительное образование  \n",
       "4             сыграть свадьбу  "
      ]
     },
     "execution_count": 3,
     "metadata": {},
     "output_type": "execute_result"
    }
   ],
   "source": [
    "data.head()"
   ]
  },
  {
   "cell_type": "markdown",
   "id": "c095c4ac",
   "metadata": {},
   "source": [
    "Из рассмотрения первых пяти строк видно, что в столбце `days_employed` присутствуют артефакты, поскольку это значение очевидно не может быть отрицательным. Также в столбце `education` присутствуют неявные дубликаты \"среднее\" и \"Среднее\", что также необходимо будет исправить при дальнейшей обработке данных.\n",
    "\n",
    "Можно заметить, что пары столбцов `education` - `education_id` и `family_status` - `family_status_id` содержат одну и ту же информацию. Для удобства можно будет убрать один стобец из каждой пары, создав словарь id: значение.\n",
    "\n",
    "Помимо этого данные в столбцах `days_employed` и `total_income`представлены в неудобном дробном формате. Необходимо будет перевести их в целочисленный тип.\n"
   ]
  },
  {
   "cell_type": "markdown",
   "id": "0910cd68",
   "metadata": {},
   "source": [
    "Рассмотрим общую информацию о таблтце:"
   ]
  },
  {
   "cell_type": "code",
   "execution_count": 4,
   "id": "704c42f0",
   "metadata": {},
   "outputs": [
    {
     "data": {
      "text/plain": [
       "array([42, 36, 33, 32, 53, 27, 43, 50, 35, 41, 40, 65, 54, 56, 26, 48, 24,\n",
       "       21, 57, 67, 28, 63, 62, 47, 34, 68, 25, 31, 30, 20, 49, 37, 45, 61,\n",
       "       64, 44, 52, 46, 23, 38, 39, 51,  0, 59, 29, 60, 55, 58, 71, 22, 73,\n",
       "       66, 69, 19, 72, 70, 74, 75])"
      ]
     },
     "execution_count": 4,
     "metadata": {},
     "output_type": "execute_result"
    }
   ],
   "source": [
    "data[\"dob_years\"].unique()"
   ]
  },
  {
   "cell_type": "code",
   "execution_count": 5,
   "id": "0207de0c",
   "metadata": {},
   "outputs": [
    {
     "name": "stdout",
     "output_type": "stream",
     "text": [
      "<class 'pandas.core.frame.DataFrame'>\n",
      "RangeIndex: 21525 entries, 0 to 21524\n",
      "Data columns (total 12 columns):\n",
      " #   Column            Non-Null Count  Dtype  \n",
      "---  ------            --------------  -----  \n",
      " 0   children          21525 non-null  int64  \n",
      " 1   days_employed     19351 non-null  float64\n",
      " 2   dob_years         21525 non-null  int64  \n",
      " 3   education         21525 non-null  object \n",
      " 4   education_id      21525 non-null  int64  \n",
      " 5   family_status     21525 non-null  object \n",
      " 6   family_status_id  21525 non-null  int64  \n",
      " 7   gender            21525 non-null  object \n",
      " 8   income_type       21525 non-null  object \n",
      " 9   debt              21525 non-null  int64  \n",
      " 10  total_income      19351 non-null  float64\n",
      " 11  purpose           21525 non-null  object \n",
      "dtypes: float64(2), int64(5), object(5)\n",
      "memory usage: 2.0+ MB\n"
     ]
    }
   ],
   "source": [
    "data.info()"
   ]
  },
  {
   "cell_type": "markdown",
   "id": "ba0d9548",
   "metadata": {},
   "source": [
    "Можно заметить, что в стобцах `days_employed` и `total_income` присутствуют пропущенные значения. В стобце `total_income`Они могут быть вызваны тем фактом, что человек не имеет стабильного ежемесячного дохода или не работал официально. В `days_employed` они могут быть следствием того, что человек не работал официально или вообще никогда не работал. Пропуски в этих столбцах можно заполнить медианным значением. Замена на меианное значение в данном случае будет уместно, поскольку это значение не будет уводить объект в сторну с лучшей кредитной историей или худшей."
   ]
  },
  {
   "cell_type": "markdown",
   "id": "e0133343",
   "metadata": {},
   "source": [
    "Узнаем, есть ли аномальные значения в столбце `total_income`:"
   ]
  },
  {
   "cell_type": "code",
   "execution_count": 6,
   "id": "c9071e25",
   "metadata": {},
   "outputs": [
    {
     "data": {
      "text/plain": [
       "0"
      ]
     },
     "execution_count": 6,
     "metadata": {},
     "output_type": "execute_result"
    }
   ],
   "source": [
    "data.loc[data[\"total_income\"] <= 0, \"total_income\"].count()"
   ]
  },
  {
   "cell_type": "markdown",
   "id": "6e13c947",
   "metadata": {},
   "source": [
    "Таких занчений нет."
   ]
  },
  {
   "cell_type": "markdown",
   "id": "7c4210ea",
   "metadata": {},
   "source": [
    "Исследуем на артефакты значения столбца `dob_years`:"
   ]
  },
  {
   "cell_type": "code",
   "execution_count": 7,
   "id": "18b5a53a",
   "metadata": {},
   "outputs": [
    {
     "data": {
      "text/plain": [
       "array([ 0, 19, 20, 21, 22, 23, 24, 25, 26, 27, 28, 29, 30, 31, 32, 33, 34,\n",
       "       35, 36, 37, 38, 39, 40, 41, 42, 43, 44, 45, 46, 47, 48, 49, 50, 51,\n",
       "       52, 53, 54, 55, 56, 57, 58, 59, 60, 61, 62, 63, 64, 65, 66, 67, 68,\n",
       "       69, 70, 71, 72, 73, 74, 75])"
      ]
     },
     "execution_count": 7,
     "metadata": {},
     "output_type": "execute_result"
    }
   ],
   "source": [
    "data[\"dob_years\"].sort_values().unique()"
   ]
  },
  {
   "cell_type": "markdown",
   "id": "9ca7467d",
   "metadata": {},
   "source": [
    "Значение 0 очевидно является ошибочным. Посмотрим, какую часть данных составляют подобные артефакты:"
   ]
  },
  {
   "cell_type": "code",
   "execution_count": 8,
   "id": "b830f24d",
   "metadata": {},
   "outputs": [
    {
     "data": {
      "text/plain": [
       "0.004692218350754936"
      ]
     },
     "execution_count": 8,
     "metadata": {},
     "output_type": "execute_result"
    }
   ],
   "source": [
    "data.loc[data[\"dob_years\"] == 0, \"dob_years\"].count() / data[\"dob_years\"].count()"
   ]
  },
  {
   "cell_type": "markdown",
   "id": "45288f35",
   "metadata": {},
   "source": [
    "Таких значений крайне мало, они будут заменены на медианное значение по датасету в дальнейшем."
   ]
  },
  {
   "cell_type": "markdown",
   "id": "0b86aff6",
   "metadata": {},
   "source": [
    "Исследуем на артефакты столбец `children`:"
   ]
  },
  {
   "cell_type": "code",
   "execution_count": 9,
   "id": "077ed0dd",
   "metadata": {},
   "outputs": [
    {
     "data": {
      "text/plain": [
       "array([ 1,  0,  3,  2, -1,  4, 20,  5])"
      ]
     },
     "execution_count": 9,
     "metadata": {},
     "output_type": "execute_result"
    }
   ],
   "source": [
    "data[\"children\"].unique()"
   ]
  },
  {
   "cell_type": "markdown",
   "id": "5a41f6cc",
   "metadata": {},
   "source": [
    "Значения -1 и 20 очевидно являются артефактами. -1 может означать отсутствие информации о количестве детей. значение 20, скорее всего, появилось из-за ошибки заполнения."
   ]
  },
  {
   "cell_type": "markdown",
   "id": "5a2bb132",
   "metadata": {},
   "source": [
    "Проверим какую часть данных составляют эти артефакты:"
   ]
  },
  {
   "cell_type": "code",
   "execution_count": 10,
   "id": "27987856",
   "metadata": {},
   "outputs": [
    {
     "data": {
      "text/plain": [
       "0.005714285714285714"
      ]
     },
     "execution_count": 10,
     "metadata": {},
     "output_type": "execute_result"
    }
   ],
   "source": [
    "data.loc[(data[\"children\"] == -1) | (data[\"children\"] == 20), \"children\"].count() / data[\"children\"].count()"
   ]
  },
  {
   "cell_type": "markdown",
   "id": "a7ecded6",
   "metadata": {},
   "source": [
    "Данные составляют незначительную часть датасета и будут заменены на медианное значение."
   ]
  },
  {
   "cell_type": "markdown",
   "id": "c33bef87",
   "metadata": {},
   "source": [
    "Проверим данные на наличие дублирующихся строк:"
   ]
  },
  {
   "cell_type": "code",
   "execution_count": 11,
   "id": "8c2cbdd4",
   "metadata": {},
   "outputs": [
    {
     "data": {
      "text/plain": [
       "54"
      ]
     },
     "execution_count": 11,
     "metadata": {},
     "output_type": "execute_result"
    }
   ],
   "source": [
    "data.duplicated().sum()"
   ]
  },
  {
   "cell_type": "markdown",
   "id": "da567b03",
   "metadata": {},
   "source": [
    "В датасете присутствуют дубликаты. Несмотря на то, что в данной задаче возможно появление дубликатов, будем считать, что они вызваны ошибками при заполнении таблицы, потому что шанс полного совпадения информации о двух разных людях крайне мал. Эти строки будут удалены при дальнейшей обработке. Удаление такого маленького количества строк (в сравнении с количеством строк самого датасета) не должно сильно повлиять на результат исследования."
   ]
  },
  {
   "cell_type": "markdown",
   "id": "a10076a7",
   "metadata": {},
   "source": [
    "Проверим таблицу на наличие неявных дубликатов во всех столбцах, в которых они могут возникнуть:"
   ]
  },
  {
   "cell_type": "code",
   "execution_count": 12,
   "id": "4c3b7dc0",
   "metadata": {},
   "outputs": [
    {
     "data": {
      "text/plain": [
       "array(['высшее', 'среднее', 'Среднее', 'СРЕДНЕЕ', 'ВЫСШЕЕ',\n",
       "       'неоконченное высшее', 'начальное', 'Высшее',\n",
       "       'НЕОКОНЧЕННОЕ ВЫСШЕЕ', 'Неоконченное высшее', 'НАЧАЛЬНОЕ',\n",
       "       'Начальное', 'Ученая степень', 'УЧЕНАЯ СТЕПЕНЬ', 'ученая степень'],\n",
       "      dtype=object)"
      ]
     },
     "execution_count": 12,
     "metadata": {},
     "output_type": "execute_result"
    }
   ],
   "source": [
    "data[\"education\"].unique()"
   ]
  },
  {
   "cell_type": "code",
   "execution_count": 13,
   "id": "fd7acc57",
   "metadata": {},
   "outputs": [
    {
     "data": {
      "text/plain": [
       "array(['женат / замужем', 'гражданский брак', 'вдовец / вдова',\n",
       "       'в разводе', 'Не женат / не замужем'], dtype=object)"
      ]
     },
     "execution_count": 13,
     "metadata": {},
     "output_type": "execute_result"
    }
   ],
   "source": [
    "data[\"family_status\"].unique()"
   ]
  },
  {
   "cell_type": "code",
   "execution_count": 14,
   "id": "b49f37e2",
   "metadata": {},
   "outputs": [
    {
     "data": {
      "text/plain": [
       "array(['F', 'M', 'XNA'], dtype=object)"
      ]
     },
     "execution_count": 14,
     "metadata": {},
     "output_type": "execute_result"
    }
   ],
   "source": [
    "data[\"gender\"].unique()"
   ]
  },
  {
   "cell_type": "code",
   "execution_count": 15,
   "id": "d172551c",
   "metadata": {},
   "outputs": [
    {
     "data": {
      "text/plain": [
       "array(['сотрудник', 'пенсионер', 'компаньон', 'госслужащий',\n",
       "       'безработный', 'предприниматель', 'студент', 'в декрете'],\n",
       "      dtype=object)"
      ]
     },
     "execution_count": 15,
     "metadata": {},
     "output_type": "execute_result"
    }
   ],
   "source": [
    "data[\"income_type\"].unique()"
   ]
  },
  {
   "cell_type": "code",
   "execution_count": 16,
   "id": "76bd8ed8",
   "metadata": {},
   "outputs": [
    {
     "data": {
      "text/plain": [
       "array(['покупка жилья', 'приобретение автомобиля',\n",
       "       'дополнительное образование', 'сыграть свадьбу',\n",
       "       'операции с жильем', 'образование', 'на проведение свадьбы',\n",
       "       'покупка жилья для семьи', 'покупка недвижимости',\n",
       "       'покупка коммерческой недвижимости', 'покупка жилой недвижимости',\n",
       "       'строительство собственной недвижимости', 'недвижимость',\n",
       "       'строительство недвижимости', 'на покупку подержанного автомобиля',\n",
       "       'на покупку своего автомобиля',\n",
       "       'операции с коммерческой недвижимостью',\n",
       "       'строительство жилой недвижимости', 'жилье',\n",
       "       'операции со своей недвижимостью', 'автомобили',\n",
       "       'заняться образованием', 'сделка с подержанным автомобилем',\n",
       "       'получение образования', 'автомобиль', 'свадьба',\n",
       "       'получение дополнительного образования', 'покупка своего жилья',\n",
       "       'операции с недвижимостью', 'получение высшего образования',\n",
       "       'свой автомобиль', 'сделка с автомобилем',\n",
       "       'профильное образование', 'высшее образование',\n",
       "       'покупка жилья для сдачи', 'на покупку автомобиля', 'ремонт жилью',\n",
       "       'заняться высшим образованием'], dtype=object)"
      ]
     },
     "execution_count": 16,
     "metadata": {},
     "output_type": "execute_result"
    }
   ],
   "source": [
    "data[\"purpose\"].unique()"
   ]
  },
  {
   "cell_type": "markdown",
   "id": "49148e14",
   "metadata": {},
   "source": [
    "Неявные дубликаты присутствуют в столбцах `education` и `purpose`. Значения в стобце `purpose` следует категориализовать в дальнейшем."
   ]
  },
  {
   "cell_type": "markdown",
   "id": "a5c1cf6b",
   "metadata": {},
   "source": [
    "Посмотрим какую часть данных составляют пропущенные и отрицательные значения в столбце `days_employed`:"
   ]
  },
  {
   "cell_type": "code",
   "execution_count": 17,
   "id": "6fe96270",
   "metadata": {},
   "outputs": [
    {
     "name": "stdout",
     "output_type": "stream",
     "text": [
      "0.7389547038327526\n"
     ]
    }
   ],
   "source": [
    "print(data.loc[(data[\"days_employed\"] < 0 | data[\"days_employed\"].isna()), \"days_employed\"].count()/data.shape[0])"
   ]
  },
  {
   "cell_type": "markdown",
   "id": "5ef8273c",
   "metadata": {},
   "source": [
    "Анамалии и пропуски занимают большую часть данных, поэтому, если просто удалить их, то потеряется слишклм много информации. Скорее всего, отрицательные значения - ошибка заполнения таблице, на их месте должны были быть положительные. Поэтому при обработке таблицы заменим отрицательные занченя на положительные, а пропуски заменим на медианное значение."
   ]
  },
  {
   "cell_type": "markdown",
   "id": "c57294bf",
   "metadata": {},
   "source": [
    "### Шаг 2.1 Исправление аномалий в данных"
   ]
  },
  {
   "cell_type": "markdown",
   "id": "a6c2f89e",
   "metadata": {},
   "source": [
    "Исправим отрицательные значения в столбце `days_employed` на положительные:"
   ]
  },
  {
   "cell_type": "code",
   "execution_count": 18,
   "id": "6a78a628",
   "metadata": {},
   "outputs": [],
   "source": [
    "data.loc[data[\"days_employed\"] < 0, \"days_employed\"] = -1 * data.loc[data[\"days_employed\"] < 0, \"days_employed\"]"
   ]
  },
  {
   "cell_type": "markdown",
   "id": "0995fd7d",
   "metadata": {},
   "source": [
    "Проверим результат исправления:"
   ]
  },
  {
   "cell_type": "code",
   "execution_count": 19,
   "id": "7146791c",
   "metadata": {},
   "outputs": [
    {
     "data": {
      "text/plain": [
       "0"
      ]
     },
     "execution_count": 19,
     "metadata": {},
     "output_type": "execute_result"
    }
   ],
   "source": [
    "data.loc[data[\"days_employed\"] < 0, \"days_employed\"].count()"
   ]
  },
  {
   "cell_type": "markdown",
   "id": "f37a3e68",
   "metadata": {},
   "source": [
    "Заменим аномальные значения столбца `dob_years` на медианное значения:"
   ]
  },
  {
   "cell_type": "code",
   "execution_count": 20,
   "id": "861d8c61",
   "metadata": {},
   "outputs": [],
   "source": [
    "data.loc[data[\"dob_years\"] == 0, \"dob_years\"] = data.loc[data[\"dob_years\"] != 0, \"dob_years\"].median()"
   ]
  },
  {
   "cell_type": "markdown",
   "id": "ab01f96e",
   "metadata": {},
   "source": [
    "Проверим результат замены:"
   ]
  },
  {
   "cell_type": "code",
   "execution_count": 21,
   "id": "58c65350",
   "metadata": {},
   "outputs": [
    {
     "data": {
      "text/plain": [
       "array([19, 20, 21, 22, 23, 24, 25, 26, 27, 28, 29, 30, 31, 32, 33, 34, 35,\n",
       "       36, 37, 38, 39, 40, 41, 42, 43, 44, 45, 46, 47, 48, 49, 50, 51, 52,\n",
       "       53, 54, 55, 56, 57, 58, 59, 60, 61, 62, 63, 64, 65, 66, 67, 68, 69,\n",
       "       70, 71, 72, 73, 74, 75])"
      ]
     },
     "execution_count": 21,
     "metadata": {},
     "output_type": "execute_result"
    }
   ],
   "source": [
    "data[\"dob_years\"].sort_values().unique()"
   ]
  },
  {
   "cell_type": "markdown",
   "id": "378fa68d",
   "metadata": {},
   "source": [
    "Исправим аномальные значения в столбце `children` на медианное значение:"
   ]
  },
  {
   "cell_type": "code",
   "execution_count": 22,
   "id": "161edac8",
   "metadata": {},
   "outputs": [],
   "source": [
    "data.loc[(data[\"children\"] == -1) | (data[\"children\"] == 20), \"children\"] = data.loc[(data[\"children\"] != -1) | (data[\"children\"] != 20), \"children\"].median()"
   ]
  },
  {
   "cell_type": "markdown",
   "id": "f659ae14",
   "metadata": {},
   "source": [
    "Проверим результат замены:"
   ]
  },
  {
   "cell_type": "code",
   "execution_count": 23,
   "id": "413f4ac1",
   "metadata": {},
   "outputs": [
    {
     "data": {
      "text/plain": [
       "array([1, 0, 3, 2, 4, 5])"
      ]
     },
     "execution_count": 23,
     "metadata": {},
     "output_type": "execute_result"
    }
   ],
   "source": [
    "data[\"children\"].unique()"
   ]
  },
  {
   "cell_type": "markdown",
   "id": "841b572b",
   "metadata": {},
   "source": [
    "### Шаг 2.2 Заполнение пропусков "
   ]
  },
  {
   "cell_type": "markdown",
   "id": "e6affa34",
   "metadata": {},
   "source": [
    "Заполним пропуски в столбце `days_employed` медианным значением:"
   ]
  },
  {
   "cell_type": "code",
   "execution_count": 24,
   "id": "ff2aa49d",
   "metadata": {},
   "outputs": [],
   "source": [
    "data[\"days_employed\"] = data[\"days_employed\"].fillna(data[\"days_employed\"].median())"
   ]
  },
  {
   "cell_type": "markdown",
   "id": "a46ead10",
   "metadata": {},
   "source": [
    "Проверим результат заполнения:"
   ]
  },
  {
   "cell_type": "code",
   "execution_count": 25,
   "id": "22d8e790",
   "metadata": {},
   "outputs": [
    {
     "data": {
      "text/plain": [
       "0"
      ]
     },
     "execution_count": 25,
     "metadata": {},
     "output_type": "execute_result"
    }
   ],
   "source": [
    "data[\"days_employed\"].isna().sum()"
   ]
  },
  {
   "cell_type": "markdown",
   "id": "c4fdfbe2",
   "metadata": {},
   "source": [
    "Заполним пропуски в столбце `total_income` медианным значением:"
   ]
  },
  {
   "cell_type": "code",
   "execution_count": 26,
   "id": "c59020af",
   "metadata": {},
   "outputs": [],
   "source": [
    "data[\"total_income\"] = data[\"total_income\"].fillna(data[\"total_income\"].median())"
   ]
  },
  {
   "cell_type": "markdown",
   "id": "eff5f4fa",
   "metadata": {},
   "source": [
    "Проверим результат заполнения:"
   ]
  },
  {
   "cell_type": "code",
   "execution_count": 27,
   "id": "f4e451bb",
   "metadata": {},
   "outputs": [
    {
     "data": {
      "text/plain": [
       "0"
      ]
     },
     "execution_count": 27,
     "metadata": {},
     "output_type": "execute_result"
    }
   ],
   "source": [
    "data[\"total_income\"].isna().sum()"
   ]
  },
  {
   "cell_type": "markdown",
   "id": "3fc78259",
   "metadata": {},
   "source": [
    "### Шаг 2.3. Изменение типов данных."
   ]
  },
  {
   "cell_type": "markdown",
   "id": "fdfd5c24",
   "metadata": {},
   "source": [
    "Поменяем тип данных столбцов `total_income` и `days_employed` на целочисленный:"
   ]
  },
  {
   "cell_type": "code",
   "execution_count": 28,
   "id": "a789e6b7",
   "metadata": {},
   "outputs": [],
   "source": [
    "data[\"total_income\"] = data[\"total_income\"].astype(\"int64\")\n",
    "data[\"days_employed\"] = data[\"days_employed\"].astype(\"int64\")"
   ]
  },
  {
   "cell_type": "markdown",
   "id": "e9e1feb4",
   "metadata": {},
   "source": [
    "Проверим, выполнилась ли замена:"
   ]
  },
  {
   "cell_type": "code",
   "execution_count": 29,
   "id": "7007b50d",
   "metadata": {},
   "outputs": [
    {
     "name": "stdout",
     "output_type": "stream",
     "text": [
      "<class 'pandas.core.frame.DataFrame'>\n",
      "RangeIndex: 21525 entries, 0 to 21524\n",
      "Data columns (total 12 columns):\n",
      " #   Column            Non-Null Count  Dtype \n",
      "---  ------            --------------  ----- \n",
      " 0   children          21525 non-null  int64 \n",
      " 1   days_employed     21525 non-null  int64 \n",
      " 2   dob_years         21525 non-null  int64 \n",
      " 3   education         21525 non-null  object\n",
      " 4   education_id      21525 non-null  int64 \n",
      " 5   family_status     21525 non-null  object\n",
      " 6   family_status_id  21525 non-null  int64 \n",
      " 7   gender            21525 non-null  object\n",
      " 8   income_type       21525 non-null  object\n",
      " 9   debt              21525 non-null  int64 \n",
      " 10  total_income      21525 non-null  int64 \n",
      " 11  purpose           21525 non-null  object\n",
      "dtypes: int64(7), object(5)\n",
      "memory usage: 2.0+ MB\n"
     ]
    }
   ],
   "source": [
    "data.info()"
   ]
  },
  {
   "cell_type": "markdown",
   "id": "8e824159",
   "metadata": {},
   "source": [
    "### Шаг 2.4. Удаление дубликатов."
   ]
  },
  {
   "cell_type": "markdown",
   "id": "aacd2682",
   "metadata": {},
   "source": [
    "Удалим дублирующиеся строки и восстановим индексы:"
   ]
  },
  {
   "cell_type": "code",
   "execution_count": 30,
   "id": "336469c5",
   "metadata": {},
   "outputs": [],
   "source": [
    "data = data.drop_duplicates()\n",
    "data = data.reset_index(drop = True)"
   ]
  },
  {
   "cell_type": "markdown",
   "id": "85830d49",
   "metadata": {},
   "source": [
    "Проверим, удалились ли дубликаты:"
   ]
  },
  {
   "cell_type": "code",
   "execution_count": 31,
   "id": "b62d6750",
   "metadata": {},
   "outputs": [
    {
     "data": {
      "text/plain": [
       "0"
      ]
     },
     "execution_count": 31,
     "metadata": {},
     "output_type": "execute_result"
    }
   ],
   "source": [
    "data.duplicated().sum()"
   ]
  },
  {
   "cell_type": "markdown",
   "id": "9549b286",
   "metadata": {},
   "source": [
    "Приведём значения столбца `education` к одному виду:"
   ]
  },
  {
   "cell_type": "code",
   "execution_count": 32,
   "id": "19313a8b",
   "metadata": {},
   "outputs": [],
   "source": [
    "data[\"education\"] = data[\"education\"].str.lower()"
   ]
  },
  {
   "cell_type": "markdown",
   "id": "5ffbea69",
   "metadata": {},
   "source": [
    "Проверим результат:"
   ]
  },
  {
   "cell_type": "code",
   "execution_count": 33,
   "id": "61af3738",
   "metadata": {},
   "outputs": [
    {
     "data": {
      "text/plain": [
       "array(['высшее', 'среднее', 'неоконченное высшее', 'начальное',\n",
       "       'ученая степень'], dtype=object)"
      ]
     },
     "execution_count": 33,
     "metadata": {},
     "output_type": "execute_result"
    }
   ],
   "source": [
    "data[\"education\"].unique()"
   ]
  },
  {
   "cell_type": "markdown",
   "id": "4da9060d",
   "metadata": {},
   "source": [
    "### Шаг 2.5. Формирование дополнительных датафреймов словарей, декомпозиция исходного датафрейма."
   ]
  },
  {
   "cell_type": "markdown",
   "id": "a009159b",
   "metadata": {},
   "source": [
    "Оставим в датасете только идентефикаторы `education_id` и `family_status_id` столбцов `education` и `family_status` соответственно. Расшифровки этих айди вынесем в отдельныt датафреймs словари:"
   ]
  },
  {
   "cell_type": "code",
   "execution_count": 34,
   "id": "45a7fd16",
   "metadata": {},
   "outputs": [],
   "source": [
    "data_dict_education = data[[\"education_id\", \"education\"]].drop_duplicates().reset_index(drop=True)\n",
    "data_dict_family_status = data[[\"family_status_id\", \"family_status\"]].drop_duplicates().reset_index(drop=True)\n",
    "data = data[[\"children\", \"days_employed\", \"dob_years\", \"education_id\", \"family_status_id\", \"gender\", \"income_type\", \"debt\", \"total_income\", \"purpose\"]]"
   ]
  },
  {
   "cell_type": "code",
   "execution_count": 35,
   "id": "b78fd164",
   "metadata": {},
   "outputs": [
    {
     "data": {
      "text/html": [
       "<div>\n",
       "<style scoped>\n",
       "    .dataframe tbody tr th:only-of-type {\n",
       "        vertical-align: middle;\n",
       "    }\n",
       "\n",
       "    .dataframe tbody tr th {\n",
       "        vertical-align: top;\n",
       "    }\n",
       "\n",
       "    .dataframe thead th {\n",
       "        text-align: right;\n",
       "    }\n",
       "</style>\n",
       "<table border=\"1\" class=\"dataframe\">\n",
       "  <thead>\n",
       "    <tr style=\"text-align: right;\">\n",
       "      <th></th>\n",
       "      <th>children</th>\n",
       "      <th>days_employed</th>\n",
       "      <th>dob_years</th>\n",
       "      <th>education_id</th>\n",
       "      <th>family_status_id</th>\n",
       "      <th>gender</th>\n",
       "      <th>income_type</th>\n",
       "      <th>debt</th>\n",
       "      <th>total_income</th>\n",
       "      <th>purpose</th>\n",
       "    </tr>\n",
       "  </thead>\n",
       "  <tbody>\n",
       "    <tr>\n",
       "      <th>0</th>\n",
       "      <td>1</td>\n",
       "      <td>8437</td>\n",
       "      <td>42</td>\n",
       "      <td>0</td>\n",
       "      <td>0</td>\n",
       "      <td>F</td>\n",
       "      <td>сотрудник</td>\n",
       "      <td>0</td>\n",
       "      <td>253875</td>\n",
       "      <td>покупка жилья</td>\n",
       "    </tr>\n",
       "    <tr>\n",
       "      <th>1</th>\n",
       "      <td>1</td>\n",
       "      <td>4024</td>\n",
       "      <td>36</td>\n",
       "      <td>1</td>\n",
       "      <td>0</td>\n",
       "      <td>F</td>\n",
       "      <td>сотрудник</td>\n",
       "      <td>0</td>\n",
       "      <td>112080</td>\n",
       "      <td>приобретение автомобиля</td>\n",
       "    </tr>\n",
       "    <tr>\n",
       "      <th>2</th>\n",
       "      <td>0</td>\n",
       "      <td>5623</td>\n",
       "      <td>33</td>\n",
       "      <td>1</td>\n",
       "      <td>0</td>\n",
       "      <td>M</td>\n",
       "      <td>сотрудник</td>\n",
       "      <td>0</td>\n",
       "      <td>145885</td>\n",
       "      <td>покупка жилья</td>\n",
       "    </tr>\n",
       "    <tr>\n",
       "      <th>3</th>\n",
       "      <td>3</td>\n",
       "      <td>4124</td>\n",
       "      <td>32</td>\n",
       "      <td>1</td>\n",
       "      <td>0</td>\n",
       "      <td>M</td>\n",
       "      <td>сотрудник</td>\n",
       "      <td>0</td>\n",
       "      <td>267628</td>\n",
       "      <td>дополнительное образование</td>\n",
       "    </tr>\n",
       "    <tr>\n",
       "      <th>4</th>\n",
       "      <td>0</td>\n",
       "      <td>340266</td>\n",
       "      <td>53</td>\n",
       "      <td>1</td>\n",
       "      <td>1</td>\n",
       "      <td>F</td>\n",
       "      <td>пенсионер</td>\n",
       "      <td>0</td>\n",
       "      <td>158616</td>\n",
       "      <td>сыграть свадьбу</td>\n",
       "    </tr>\n",
       "  </tbody>\n",
       "</table>\n",
       "</div>"
      ],
      "text/plain": [
       "   children  days_employed  dob_years  education_id  family_status_id gender  \\\n",
       "0         1           8437         42             0                 0      F   \n",
       "1         1           4024         36             1                 0      F   \n",
       "2         0           5623         33             1                 0      M   \n",
       "3         3           4124         32             1                 0      M   \n",
       "4         0         340266         53             1                 1      F   \n",
       "\n",
       "  income_type  debt  total_income                     purpose  \n",
       "0   сотрудник     0        253875               покупка жилья  \n",
       "1   сотрудник     0        112080     приобретение автомобиля  \n",
       "2   сотрудник     0        145885               покупка жилья  \n",
       "3   сотрудник     0        267628  дополнительное образование  \n",
       "4   пенсионер     0        158616             сыграть свадьбу  "
      ]
     },
     "execution_count": 35,
     "metadata": {},
     "output_type": "execute_result"
    }
   ],
   "source": [
    "data.head()"
   ]
  },
  {
   "cell_type": "code",
   "execution_count": 36,
   "id": "844ca745",
   "metadata": {},
   "outputs": [
    {
     "data": {
      "text/html": [
       "<div>\n",
       "<style scoped>\n",
       "    .dataframe tbody tr th:only-of-type {\n",
       "        vertical-align: middle;\n",
       "    }\n",
       "\n",
       "    .dataframe tbody tr th {\n",
       "        vertical-align: top;\n",
       "    }\n",
       "\n",
       "    .dataframe thead th {\n",
       "        text-align: right;\n",
       "    }\n",
       "</style>\n",
       "<table border=\"1\" class=\"dataframe\">\n",
       "  <thead>\n",
       "    <tr style=\"text-align: right;\">\n",
       "      <th></th>\n",
       "      <th>education_id</th>\n",
       "      <th>education</th>\n",
       "    </tr>\n",
       "  </thead>\n",
       "  <tbody>\n",
       "    <tr>\n",
       "      <th>0</th>\n",
       "      <td>0</td>\n",
       "      <td>высшее</td>\n",
       "    </tr>\n",
       "    <tr>\n",
       "      <th>1</th>\n",
       "      <td>1</td>\n",
       "      <td>среднее</td>\n",
       "    </tr>\n",
       "    <tr>\n",
       "      <th>2</th>\n",
       "      <td>2</td>\n",
       "      <td>неоконченное высшее</td>\n",
       "    </tr>\n",
       "    <tr>\n",
       "      <th>3</th>\n",
       "      <td>3</td>\n",
       "      <td>начальное</td>\n",
       "    </tr>\n",
       "    <tr>\n",
       "      <th>4</th>\n",
       "      <td>4</td>\n",
       "      <td>ученая степень</td>\n",
       "    </tr>\n",
       "  </tbody>\n",
       "</table>\n",
       "</div>"
      ],
      "text/plain": [
       "   education_id            education\n",
       "0             0               высшее\n",
       "1             1              среднее\n",
       "2             2  неоконченное высшее\n",
       "3             3            начальное\n",
       "4             4       ученая степень"
      ]
     },
     "execution_count": 36,
     "metadata": {},
     "output_type": "execute_result"
    }
   ],
   "source": [
    "data_dict_education.head()"
   ]
  },
  {
   "cell_type": "code",
   "execution_count": 37,
   "id": "c3172db1",
   "metadata": {},
   "outputs": [
    {
     "data": {
      "text/html": [
       "<div>\n",
       "<style scoped>\n",
       "    .dataframe tbody tr th:only-of-type {\n",
       "        vertical-align: middle;\n",
       "    }\n",
       "\n",
       "    .dataframe tbody tr th {\n",
       "        vertical-align: top;\n",
       "    }\n",
       "\n",
       "    .dataframe thead th {\n",
       "        text-align: right;\n",
       "    }\n",
       "</style>\n",
       "<table border=\"1\" class=\"dataframe\">\n",
       "  <thead>\n",
       "    <tr style=\"text-align: right;\">\n",
       "      <th></th>\n",
       "      <th>family_status_id</th>\n",
       "      <th>family_status</th>\n",
       "    </tr>\n",
       "  </thead>\n",
       "  <tbody>\n",
       "    <tr>\n",
       "      <th>0</th>\n",
       "      <td>0</td>\n",
       "      <td>женат / замужем</td>\n",
       "    </tr>\n",
       "    <tr>\n",
       "      <th>1</th>\n",
       "      <td>1</td>\n",
       "      <td>гражданский брак</td>\n",
       "    </tr>\n",
       "    <tr>\n",
       "      <th>2</th>\n",
       "      <td>2</td>\n",
       "      <td>вдовец / вдова</td>\n",
       "    </tr>\n",
       "    <tr>\n",
       "      <th>3</th>\n",
       "      <td>3</td>\n",
       "      <td>в разводе</td>\n",
       "    </tr>\n",
       "    <tr>\n",
       "      <th>4</th>\n",
       "      <td>4</td>\n",
       "      <td>Не женат / не замужем</td>\n",
       "    </tr>\n",
       "  </tbody>\n",
       "</table>\n",
       "</div>"
      ],
      "text/plain": [
       "   family_status_id          family_status\n",
       "0                 0        женат / замужем\n",
       "1                 1       гражданский брак\n",
       "2                 2         вдовец / вдова\n",
       "3                 3              в разводе\n",
       "4                 4  Не женат / не замужем"
      ]
     },
     "execution_count": 37,
     "metadata": {},
     "output_type": "execute_result"
    }
   ],
   "source": [
    "data_dict_family_status.head()"
   ]
  },
  {
   "cell_type": "markdown",
   "id": "2fd70664",
   "metadata": {},
   "source": [
    "### Шаг 2.6. Категоризация дохода."
   ]
  },
  {
   "cell_type": "markdown",
   "id": "3701136d",
   "metadata": {},
   "source": [
    "Создадим столбец `total_income_category` со следующими категориями:\n",
    "* 0–30000 — 'E'\n",
    "* 30001–50000 — 'D'\n",
    "* 50001–200000 — 'C'\n",
    "* 200001–1000000 — 'B'\n",
    "* 1000001 и выше — 'A'"
   ]
  },
  {
   "cell_type": "code",
   "execution_count": 38,
   "id": "9a662113",
   "metadata": {},
   "outputs": [],
   "source": [
    "def make_income_category(value):\n",
    "    if value <= 30000:\n",
    "        return \"E\"\n",
    "    elif value <= 50000:\n",
    "        return \"D\"\n",
    "    elif value <= 200000:\n",
    "        return \"C\"\n",
    "    elif value <= 1000000:\n",
    "        return \"B\"\n",
    "    else:\n",
    "        return \"A\"\n",
    "    \n",
    "data[\"total_income_category\"] = data[\"total_income\"].apply(make_income_category)"
   ]
  },
  {
   "cell_type": "markdown",
   "id": "c60b0b6b",
   "metadata": {},
   "source": [
    "Проверка:"
   ]
  },
  {
   "cell_type": "code",
   "execution_count": 39,
   "id": "bec94feb",
   "metadata": {},
   "outputs": [
    {
     "data": {
      "text/html": [
       "<div>\n",
       "<style scoped>\n",
       "    .dataframe tbody tr th:only-of-type {\n",
       "        vertical-align: middle;\n",
       "    }\n",
       "\n",
       "    .dataframe tbody tr th {\n",
       "        vertical-align: top;\n",
       "    }\n",
       "\n",
       "    .dataframe thead th {\n",
       "        text-align: right;\n",
       "    }\n",
       "</style>\n",
       "<table border=\"1\" class=\"dataframe\">\n",
       "  <thead>\n",
       "    <tr style=\"text-align: right;\">\n",
       "      <th></th>\n",
       "      <th>children</th>\n",
       "      <th>days_employed</th>\n",
       "      <th>dob_years</th>\n",
       "      <th>education_id</th>\n",
       "      <th>family_status_id</th>\n",
       "      <th>gender</th>\n",
       "      <th>income_type</th>\n",
       "      <th>debt</th>\n",
       "      <th>total_income</th>\n",
       "      <th>purpose</th>\n",
       "      <th>total_income_category</th>\n",
       "    </tr>\n",
       "  </thead>\n",
       "  <tbody>\n",
       "    <tr>\n",
       "      <th>0</th>\n",
       "      <td>1</td>\n",
       "      <td>8437</td>\n",
       "      <td>42</td>\n",
       "      <td>0</td>\n",
       "      <td>0</td>\n",
       "      <td>F</td>\n",
       "      <td>сотрудник</td>\n",
       "      <td>0</td>\n",
       "      <td>253875</td>\n",
       "      <td>покупка жилья</td>\n",
       "      <td>B</td>\n",
       "    </tr>\n",
       "    <tr>\n",
       "      <th>1</th>\n",
       "      <td>1</td>\n",
       "      <td>4024</td>\n",
       "      <td>36</td>\n",
       "      <td>1</td>\n",
       "      <td>0</td>\n",
       "      <td>F</td>\n",
       "      <td>сотрудник</td>\n",
       "      <td>0</td>\n",
       "      <td>112080</td>\n",
       "      <td>приобретение автомобиля</td>\n",
       "      <td>C</td>\n",
       "    </tr>\n",
       "    <tr>\n",
       "      <th>2</th>\n",
       "      <td>0</td>\n",
       "      <td>5623</td>\n",
       "      <td>33</td>\n",
       "      <td>1</td>\n",
       "      <td>0</td>\n",
       "      <td>M</td>\n",
       "      <td>сотрудник</td>\n",
       "      <td>0</td>\n",
       "      <td>145885</td>\n",
       "      <td>покупка жилья</td>\n",
       "      <td>C</td>\n",
       "    </tr>\n",
       "    <tr>\n",
       "      <th>3</th>\n",
       "      <td>3</td>\n",
       "      <td>4124</td>\n",
       "      <td>32</td>\n",
       "      <td>1</td>\n",
       "      <td>0</td>\n",
       "      <td>M</td>\n",
       "      <td>сотрудник</td>\n",
       "      <td>0</td>\n",
       "      <td>267628</td>\n",
       "      <td>дополнительное образование</td>\n",
       "      <td>B</td>\n",
       "    </tr>\n",
       "    <tr>\n",
       "      <th>4</th>\n",
       "      <td>0</td>\n",
       "      <td>340266</td>\n",
       "      <td>53</td>\n",
       "      <td>1</td>\n",
       "      <td>1</td>\n",
       "      <td>F</td>\n",
       "      <td>пенсионер</td>\n",
       "      <td>0</td>\n",
       "      <td>158616</td>\n",
       "      <td>сыграть свадьбу</td>\n",
       "      <td>C</td>\n",
       "    </tr>\n",
       "  </tbody>\n",
       "</table>\n",
       "</div>"
      ],
      "text/plain": [
       "   children  days_employed  dob_years  education_id  family_status_id gender  \\\n",
       "0         1           8437         42             0                 0      F   \n",
       "1         1           4024         36             1                 0      F   \n",
       "2         0           5623         33             1                 0      M   \n",
       "3         3           4124         32             1                 0      M   \n",
       "4         0         340266         53             1                 1      F   \n",
       "\n",
       "  income_type  debt  total_income                     purpose  \\\n",
       "0   сотрудник     0        253875               покупка жилья   \n",
       "1   сотрудник     0        112080     приобретение автомобиля   \n",
       "2   сотрудник     0        145885               покупка жилья   \n",
       "3   сотрудник     0        267628  дополнительное образование   \n",
       "4   пенсионер     0        158616             сыграть свадьбу   \n",
       "\n",
       "  total_income_category  \n",
       "0                     B  \n",
       "1                     C  \n",
       "2                     C  \n",
       "3                     B  \n",
       "4                     C  "
      ]
     },
     "execution_count": 39,
     "metadata": {},
     "output_type": "execute_result"
    }
   ],
   "source": [
    "data.head()"
   ]
  },
  {
   "cell_type": "markdown",
   "id": "5dacda3c",
   "metadata": {},
   "source": [
    "### Шаг 2.7. Категоризация целей кредита."
   ]
  },
  {
   "cell_type": "markdown",
   "id": "ddff3cee",
   "metadata": {},
   "source": [
    "Создадим столбец `purpose_category` со следующими категориями:\n",
    "* операции с автомобилем\n",
    "* операции с недвижимостью\n",
    "* проведение свадьбы\n",
    "* получение образования"
   ]
  },
  {
   "cell_type": "code",
   "execution_count": 40,
   "id": "8d50d5d0",
   "metadata": {},
   "outputs": [],
   "source": [
    "def make_purpose_category(string):\n",
    "    if \"авто\" in string:\n",
    "        return \"операции с автомобилем\"\n",
    "    elif \"недвиж\" in string or \"жиль\" in string:\n",
    "        return \"операции с недвижимостью\"\n",
    "    elif \"сва\" in string:\n",
    "        return \"проведение свадьбы\"\n",
    "    elif \"образ\" in string:\n",
    "        return \"получение образования\"\n",
    "    else:\n",
    "        return \"другое\"\n",
    "    \n",
    "data[\"purpose_category\"] = data[\"purpose\"].apply(make_purpose_category)"
   ]
  },
  {
   "cell_type": "markdown",
   "id": "1b37d439",
   "metadata": {},
   "source": [
    "Проверим таблицу и посмотрим в скольких строках записано 'другое' (сколько строк не удалось корректно заполнить):"
   ]
  },
  {
   "cell_type": "code",
   "execution_count": 41,
   "id": "a5428838",
   "metadata": {},
   "outputs": [
    {
     "data": {
      "text/html": [
       "<div>\n",
       "<style scoped>\n",
       "    .dataframe tbody tr th:only-of-type {\n",
       "        vertical-align: middle;\n",
       "    }\n",
       "\n",
       "    .dataframe tbody tr th {\n",
       "        vertical-align: top;\n",
       "    }\n",
       "\n",
       "    .dataframe thead th {\n",
       "        text-align: right;\n",
       "    }\n",
       "</style>\n",
       "<table border=\"1\" class=\"dataframe\">\n",
       "  <thead>\n",
       "    <tr style=\"text-align: right;\">\n",
       "      <th></th>\n",
       "      <th>children</th>\n",
       "      <th>days_employed</th>\n",
       "      <th>dob_years</th>\n",
       "      <th>education_id</th>\n",
       "      <th>family_status_id</th>\n",
       "      <th>gender</th>\n",
       "      <th>income_type</th>\n",
       "      <th>debt</th>\n",
       "      <th>total_income</th>\n",
       "      <th>purpose</th>\n",
       "      <th>total_income_category</th>\n",
       "      <th>purpose_category</th>\n",
       "    </tr>\n",
       "  </thead>\n",
       "  <tbody>\n",
       "    <tr>\n",
       "      <th>0</th>\n",
       "      <td>1</td>\n",
       "      <td>8437</td>\n",
       "      <td>42</td>\n",
       "      <td>0</td>\n",
       "      <td>0</td>\n",
       "      <td>F</td>\n",
       "      <td>сотрудник</td>\n",
       "      <td>0</td>\n",
       "      <td>253875</td>\n",
       "      <td>покупка жилья</td>\n",
       "      <td>B</td>\n",
       "      <td>операции с недвижимостью</td>\n",
       "    </tr>\n",
       "    <tr>\n",
       "      <th>1</th>\n",
       "      <td>1</td>\n",
       "      <td>4024</td>\n",
       "      <td>36</td>\n",
       "      <td>1</td>\n",
       "      <td>0</td>\n",
       "      <td>F</td>\n",
       "      <td>сотрудник</td>\n",
       "      <td>0</td>\n",
       "      <td>112080</td>\n",
       "      <td>приобретение автомобиля</td>\n",
       "      <td>C</td>\n",
       "      <td>операции с автомобилем</td>\n",
       "    </tr>\n",
       "    <tr>\n",
       "      <th>2</th>\n",
       "      <td>0</td>\n",
       "      <td>5623</td>\n",
       "      <td>33</td>\n",
       "      <td>1</td>\n",
       "      <td>0</td>\n",
       "      <td>M</td>\n",
       "      <td>сотрудник</td>\n",
       "      <td>0</td>\n",
       "      <td>145885</td>\n",
       "      <td>покупка жилья</td>\n",
       "      <td>C</td>\n",
       "      <td>операции с недвижимостью</td>\n",
       "    </tr>\n",
       "    <tr>\n",
       "      <th>3</th>\n",
       "      <td>3</td>\n",
       "      <td>4124</td>\n",
       "      <td>32</td>\n",
       "      <td>1</td>\n",
       "      <td>0</td>\n",
       "      <td>M</td>\n",
       "      <td>сотрудник</td>\n",
       "      <td>0</td>\n",
       "      <td>267628</td>\n",
       "      <td>дополнительное образование</td>\n",
       "      <td>B</td>\n",
       "      <td>получение образования</td>\n",
       "    </tr>\n",
       "    <tr>\n",
       "      <th>4</th>\n",
       "      <td>0</td>\n",
       "      <td>340266</td>\n",
       "      <td>53</td>\n",
       "      <td>1</td>\n",
       "      <td>1</td>\n",
       "      <td>F</td>\n",
       "      <td>пенсионер</td>\n",
       "      <td>0</td>\n",
       "      <td>158616</td>\n",
       "      <td>сыграть свадьбу</td>\n",
       "      <td>C</td>\n",
       "      <td>проведение свадьбы</td>\n",
       "    </tr>\n",
       "  </tbody>\n",
       "</table>\n",
       "</div>"
      ],
      "text/plain": [
       "   children  days_employed  dob_years  education_id  family_status_id gender  \\\n",
       "0         1           8437         42             0                 0      F   \n",
       "1         1           4024         36             1                 0      F   \n",
       "2         0           5623         33             1                 0      M   \n",
       "3         3           4124         32             1                 0      M   \n",
       "4         0         340266         53             1                 1      F   \n",
       "\n",
       "  income_type  debt  total_income                     purpose  \\\n",
       "0   сотрудник     0        253875               покупка жилья   \n",
       "1   сотрудник     0        112080     приобретение автомобиля   \n",
       "2   сотрудник     0        145885               покупка жилья   \n",
       "3   сотрудник     0        267628  дополнительное образование   \n",
       "4   пенсионер     0        158616             сыграть свадьбу   \n",
       "\n",
       "  total_income_category          purpose_category  \n",
       "0                     B  операции с недвижимостью  \n",
       "1                     C    операции с автомобилем  \n",
       "2                     C  операции с недвижимостью  \n",
       "3                     B     получение образования  \n",
       "4                     C        проведение свадьбы  "
      ]
     },
     "execution_count": 41,
     "metadata": {},
     "output_type": "execute_result"
    }
   ],
   "source": [
    "data.head()"
   ]
  },
  {
   "cell_type": "code",
   "execution_count": 42,
   "id": "75e57fcc",
   "metadata": {},
   "outputs": [
    {
     "data": {
      "text/plain": [
       "0"
      ]
     },
     "execution_count": 42,
     "metadata": {},
     "output_type": "execute_result"
    }
   ],
   "source": [
    "data.loc[data[\"purpose_category\"] == \"другое\", \"purpose\"].count()"
   ]
  },
  {
   "cell_type": "markdown",
   "id": "bb841749",
   "metadata": {},
   "source": [
    "### Ответы на вопросы."
   ]
  },
  {
   "cell_type": "markdown",
   "id": "91e853a3",
   "metadata": {},
   "source": [
    "##### Вопрос 1: Есть ли зависимость между количеством детей и возвратом кредита в срок?"
   ]
  },
  {
   "cell_type": "markdown",
   "id": "85fb2dba",
   "metadata": {},
   "source": [
    "Для того, чтобы проверить это рассмотрим процент людей, вернувших кредит в срок для трех разных категорий: нет детей, 1-2 ребенка, больше 2 детей."
   ]
  },
  {
   "cell_type": "code",
   "execution_count": 43,
   "id": "7e85de82",
   "metadata": {},
   "outputs": [],
   "source": [
    "first_category_percent = data.loc[(data[\"children\"] == 0) & (data[\"debt\"] == 0), \"debt\"].count() / data.loc[(data[\"children\"] == 0), \"debt\"].count()\n",
    "second_category_percent = data.loc[(data[\"children\"] > 0) & (data[\"children\"] < 3) & (data[\"debt\"] == 0), \"debt\"].count() / data.loc[(data[\"children\"] > 0) & (data[\"children\"] < 3), \"debt\"].count()\n",
    "third_category_percent = data.loc[(data[\"children\"] > 2) & (data[\"debt\"] == 0), \"debt\"].count() / data.loc[(data[\"children\"] > 2), \"debt\"].count()\n",
    "first_category_size = data.loc[(data[\"children\"] == 0), \"debt\"].count()\n",
    "second_category_size = data.loc[(data[\"children\"] > 0) & (data[\"children\"] < 3), \"debt\"].count()\n",
    "third_category_size = data.loc[(data[\"children\"] > 2), \"debt\"].count()"
   ]
  },
  {
   "cell_type": "markdown",
   "id": "4ce3c786",
   "metadata": {},
   "source": [
    "Построим таблицу для более удобного восприятия информации:"
   ]
  },
  {
   "cell_type": "code",
   "execution_count": 44,
   "id": "f7a37d4e",
   "metadata": {},
   "outputs": [
    {
     "data": {
      "text/html": [
       "<div>\n",
       "<style scoped>\n",
       "    .dataframe tbody tr th:only-of-type {\n",
       "        vertical-align: middle;\n",
       "    }\n",
       "\n",
       "    .dataframe tbody tr th {\n",
       "        vertical-align: top;\n",
       "    }\n",
       "\n",
       "    .dataframe thead th {\n",
       "        text-align: right;\n",
       "    }\n",
       "</style>\n",
       "<table border=\"1\" class=\"dataframe\">\n",
       "  <thead>\n",
       "    <tr style=\"text-align: right;\">\n",
       "      <th></th>\n",
       "      <th>Процент людей, вернувших кредит вовремя</th>\n",
       "      <th>Количество людей в категории</th>\n",
       "    </tr>\n",
       "  </thead>\n",
       "  <tbody>\n",
       "    <tr>\n",
       "      <th>Нет детей</th>\n",
       "      <td>0.924666</td>\n",
       "      <td>14230</td>\n",
       "    </tr>\n",
       "    <tr>\n",
       "      <th>Один - два ребенка</th>\n",
       "      <td>0.907011</td>\n",
       "      <td>6861</td>\n",
       "    </tr>\n",
       "    <tr>\n",
       "      <th>Более двух детей</th>\n",
       "      <td>0.918421</td>\n",
       "      <td>380</td>\n",
       "    </tr>\n",
       "  </tbody>\n",
       "</table>\n",
       "</div>"
      ],
      "text/plain": [
       "                    Процент людей, вернувших кредит вовремя  \\\n",
       "Нет детей                                          0.924666   \n",
       "Один - два ребенка                                 0.907011   \n",
       "Более двух детей                                   0.918421   \n",
       "\n",
       "                    Количество людей в категории  \n",
       "Нет детей                                  14230  \n",
       "Один - два ребенка                          6861  \n",
       "Более двух детей                             380  "
      ]
     },
     "execution_count": 44,
     "metadata": {},
     "output_type": "execute_result"
    }
   ],
   "source": [
    "table = [[first_category_percent, first_category_size], [second_category_percent, second_category_size], [third_category_percent, third_category_size]]\n",
    "index = [\"Нет детей\" , \"Один - два ребенка\", \"Более двух детей\"]\n",
    "column_names = [\"Процент людей, вернувших кредит вовремя\", \"Количество людей в категории\"]\n",
    "answer1 = pd.DataFrame(data = table, columns = column_names, index = index)\n",
    "answer1"
   ]
  },
  {
   "cell_type": "markdown",
   "id": "8209751b",
   "metadata": {},
   "source": [
    "##### Вывод 1: Данные показывают, что есть зависимость между количеством детей и возвратом кредита в срок. Люди без детей или с большим количеством детей в среднем реже меют задолженности."
   ]
  },
  {
   "cell_type": "markdown",
   "id": "07aacf92",
   "metadata": {},
   "source": [
    "##### Вопрос 2: Есть ли зависимость между семейным положением и возвратом кредита в срок?"
   ]
  },
  {
   "cell_type": "markdown",
   "id": "c1545e2e",
   "metadata": {},
   "source": [
    "Так же, как и в предыдущем случае, рассчитаем процент людей, вернувших кредит вовремя. Прлученную таблицу отсортируем по надежности заемщика для удобства анализа."
   ]
  },
  {
   "cell_type": "code",
   "execution_count": 45,
   "id": "e7c97dc3",
   "metadata": {},
   "outputs": [
    {
     "data": {
      "text/html": [
       "<div>\n",
       "<style scoped>\n",
       "    .dataframe tbody tr th:only-of-type {\n",
       "        vertical-align: middle;\n",
       "    }\n",
       "\n",
       "    .dataframe tbody tr th {\n",
       "        vertical-align: top;\n",
       "    }\n",
       "\n",
       "    .dataframe thead th {\n",
       "        text-align: right;\n",
       "    }\n",
       "</style>\n",
       "<table border=\"1\" class=\"dataframe\">\n",
       "  <thead>\n",
       "    <tr style=\"text-align: right;\">\n",
       "      <th></th>\n",
       "      <th>Процент людей, вернувших кредит вовремя</th>\n",
       "      <th>Количество людей в категории</th>\n",
       "    </tr>\n",
       "  </thead>\n",
       "  <tbody>\n",
       "    <tr>\n",
       "      <th>Не женат / не замужем</th>\n",
       "      <td>0.902491</td>\n",
       "      <td>2810.0</td>\n",
       "    </tr>\n",
       "    <tr>\n",
       "      <th>гражданский брак</th>\n",
       "      <td>0.906798</td>\n",
       "      <td>4163.0</td>\n",
       "    </tr>\n",
       "    <tr>\n",
       "      <th>женат / замужем</th>\n",
       "      <td>0.924579</td>\n",
       "      <td>12344.0</td>\n",
       "    </tr>\n",
       "    <tr>\n",
       "      <th>в разводе</th>\n",
       "      <td>0.928870</td>\n",
       "      <td>1195.0</td>\n",
       "    </tr>\n",
       "    <tr>\n",
       "      <th>вдовец / вдова</th>\n",
       "      <td>0.934307</td>\n",
       "      <td>959.0</td>\n",
       "    </tr>\n",
       "  </tbody>\n",
       "</table>\n",
       "</div>"
      ],
      "text/plain": [
       "                       Процент людей, вернувших кредит вовремя  \\\n",
       "Не женат / не замужем                                 0.902491   \n",
       "гражданский брак                                      0.906798   \n",
       "женат / замужем                                       0.924579   \n",
       "в разводе                                             0.928870   \n",
       "вдовец / вдова                                        0.934307   \n",
       "\n",
       "                       Количество людей в категории  \n",
       "Не женат / не замужем                        2810.0  \n",
       "гражданский брак                             4163.0  \n",
       "женат / замужем                             12344.0  \n",
       "в разводе                                    1195.0  \n",
       "вдовец / вдова                                959.0  "
      ]
     },
     "execution_count": 45,
     "metadata": {},
     "output_type": "execute_result"
    }
   ],
   "source": [
    "info = data.groupby(\"family_status_id\").agg({\"debt\": [\"mean\" ,\"count\"]})\n",
    "table = info.to_numpy()\n",
    "table[:,0] = 1 - table[:,0]\n",
    "index = data_dict_family_status.to_numpy()[:,1]\n",
    "column_names = [\"Процент людей, вернувших кредит вовремя\", \"Количество людей в категории\"]\n",
    "answer2 = pd.DataFrame(data = table, columns = column_names, index = index)\n",
    "answer2 = answer2.sort_values(by = \"Процент людей, вернувших кредит вовремя\")\n",
    "answer2"
   ]
  },
  {
   "cell_type": "markdown",
   "id": "2957ff20",
   "metadata": {},
   "source": [
    "##### Вывод 2: Исходя из данной таблицы можно сделать вывод, что семейное положение влияет на возврат кредита в срок. Однако можно сделать вывод, что люди из категории `Не женат / не замужем` и `гражданский брак` в среднем чуть менее надежны."
   ]
  },
  {
   "cell_type": "markdown",
   "id": "c94fcac7",
   "metadata": {},
   "source": [
    "##### Вопрос 3: Есть ли зависимость между уровнем дохода и возвратом кредита в срок?"
   ]
  },
  {
   "cell_type": "markdown",
   "id": "e73caa8b",
   "metadata": {},
   "source": [
    "Аналогично предыдущим шагам рассчитаем надежность заемщика в зависимости от его уровня дохода:"
   ]
  },
  {
   "cell_type": "code",
   "execution_count": 46,
   "id": "88917c3f",
   "metadata": {},
   "outputs": [
    {
     "data": {
      "text/html": [
       "<div>\n",
       "<style scoped>\n",
       "    .dataframe tbody tr th:only-of-type {\n",
       "        vertical-align: middle;\n",
       "    }\n",
       "\n",
       "    .dataframe tbody tr th {\n",
       "        vertical-align: top;\n",
       "    }\n",
       "\n",
       "    .dataframe thead th {\n",
       "        text-align: right;\n",
       "    }\n",
       "</style>\n",
       "<table border=\"1\" class=\"dataframe\">\n",
       "  <thead>\n",
       "    <tr style=\"text-align: right;\">\n",
       "      <th></th>\n",
       "      <th>Процент людей, вернувших кредит вовремя</th>\n",
       "      <th>Количество людей в категории</th>\n",
       "    </tr>\n",
       "  </thead>\n",
       "  <tbody>\n",
       "    <tr>\n",
       "      <th>E</th>\n",
       "      <td>0.909091</td>\n",
       "      <td>22.0</td>\n",
       "    </tr>\n",
       "    <tr>\n",
       "      <th>C</th>\n",
       "      <td>0.915175</td>\n",
       "      <td>16033.0</td>\n",
       "    </tr>\n",
       "    <tr>\n",
       "      <th>A</th>\n",
       "      <td>0.920000</td>\n",
       "      <td>25.0</td>\n",
       "    </tr>\n",
       "    <tr>\n",
       "      <th>B</th>\n",
       "      <td>0.929379</td>\n",
       "      <td>5041.0</td>\n",
       "    </tr>\n",
       "    <tr>\n",
       "      <th>D</th>\n",
       "      <td>0.940000</td>\n",
       "      <td>350.0</td>\n",
       "    </tr>\n",
       "  </tbody>\n",
       "</table>\n",
       "</div>"
      ],
      "text/plain": [
       "   Процент людей, вернувших кредит вовремя  Количество людей в категории\n",
       "E                                 0.909091                          22.0\n",
       "C                                 0.915175                       16033.0\n",
       "A                                 0.920000                          25.0\n",
       "B                                 0.929379                        5041.0\n",
       "D                                 0.940000                         350.0"
      ]
     },
     "execution_count": 46,
     "metadata": {},
     "output_type": "execute_result"
    }
   ],
   "source": [
    "info = data.groupby(\"total_income_category\").agg({\"debt\": [\"mean\" ,\"count\"]})\n",
    "table = info.to_numpy()\n",
    "table[:,0] = 1 - table[:,0]\n",
    "index = info.index.to_numpy()\n",
    "column_names = [\"Процент людей, вернувших кредит вовремя\", \"Количество людей в категории\"]\n",
    "answer3 = pd.DataFrame(data = table, columns = column_names, index = index)\n",
    "answer3 = answer3.sort_values(by = \"Процент людей, вернувших кредит вовремя\")\n",
    "answer3"
   ]
  },
  {
   "cell_type": "markdown",
   "id": "70c22891",
   "metadata": {},
   "source": [
    "##### Вывод 3: Самыми надежными заемщиками оказались люди из категории `D`.  Зависимость между уровнем дохода и возвратом кредита в срок есть. Однако исходная таблица содержит очень мало данных для категорий `E` и `A`, поэтому данная таблица не точная и нуждается в дополнительных данных."
   ]
  },
  {
   "cell_type": "markdown",
   "id": "e6e28df3",
   "metadata": {},
   "source": [
    "##### Вопрос 4: Как разные цели кредита влияют на его возврат в срок?"
   ]
  },
  {
   "cell_type": "markdown",
   "id": "d78dacbe",
   "metadata": {},
   "source": [
    "Рассчитаем надежность заемщика в зависимости от цели кредита:"
   ]
  },
  {
   "cell_type": "code",
   "execution_count": 47,
   "id": "60b638a5",
   "metadata": {},
   "outputs": [
    {
     "data": {
      "text/html": [
       "<div>\n",
       "<style scoped>\n",
       "    .dataframe tbody tr th:only-of-type {\n",
       "        vertical-align: middle;\n",
       "    }\n",
       "\n",
       "    .dataframe tbody tr th {\n",
       "        vertical-align: top;\n",
       "    }\n",
       "\n",
       "    .dataframe thead th {\n",
       "        text-align: right;\n",
       "    }\n",
       "</style>\n",
       "<table border=\"1\" class=\"dataframe\">\n",
       "  <thead>\n",
       "    <tr style=\"text-align: right;\">\n",
       "      <th></th>\n",
       "      <th>Процент людей, вернувших кредит вовремя</th>\n",
       "      <th>Количество людей в категории</th>\n",
       "    </tr>\n",
       "  </thead>\n",
       "  <tbody>\n",
       "    <tr>\n",
       "      <th>операции с автомобилем</th>\n",
       "      <td>0.906453</td>\n",
       "      <td>4308.0</td>\n",
       "    </tr>\n",
       "    <tr>\n",
       "      <th>получение образования</th>\n",
       "      <td>0.907823</td>\n",
       "      <td>4014.0</td>\n",
       "    </tr>\n",
       "    <tr>\n",
       "      <th>проведение свадьбы</th>\n",
       "      <td>0.920343</td>\n",
       "      <td>2335.0</td>\n",
       "    </tr>\n",
       "    <tr>\n",
       "      <th>операции с недвижимостью</th>\n",
       "      <td>0.927686</td>\n",
       "      <td>10814.0</td>\n",
       "    </tr>\n",
       "  </tbody>\n",
       "</table>\n",
       "</div>"
      ],
      "text/plain": [
       "                          Процент людей, вернувших кредит вовремя  \\\n",
       "операции с автомобилем                                   0.906453   \n",
       "получение образования                                    0.907823   \n",
       "проведение свадьбы                                       0.920343   \n",
       "операции с недвижимостью                                 0.927686   \n",
       "\n",
       "                          Количество людей в категории  \n",
       "операции с автомобилем                          4308.0  \n",
       "получение образования                           4014.0  \n",
       "проведение свадьбы                              2335.0  \n",
       "операции с недвижимостью                       10814.0  "
      ]
     },
     "execution_count": 47,
     "metadata": {},
     "output_type": "execute_result"
    }
   ],
   "source": [
    "info = data.groupby(\"purpose_category\").agg({\"debt\": [\"mean\" ,\"count\"]})\n",
    "table = info.to_numpy()\n",
    "table[:,0] = 1 - table[:,0]\n",
    "index = info.index.to_numpy()\n",
    "column_names = [\"Процент людей, вернувших кредит вовремя\", \"Количество людей в категории\"]\n",
    "answer4 = pd.DataFrame(data = table, columns = column_names, index = index)\n",
    "answer4 = answer4.sort_values(by = \"Процент людей, вернувших кредит вовремя\")\n",
    "answer4"
   ]
  },
  {
   "cell_type": "markdown",
   "id": "73f7135a",
   "metadata": {},
   "source": [
    "##### Вывод 4: Люди, берущие кредит на получение образования или операции с автоиобилем в среднем являются менее надежными заемщиками."
   ]
  },
  {
   "cell_type": "markdown",
   "id": "8f07c736",
   "metadata": {},
   "source": [
    "## Общий вывод:"
   ]
  },
  {
   "cell_type": "markdown",
   "id": "d5630d27",
   "metadata": {},
   "source": [
    "На основании проделанной работы, можно сделать вывод, что любой из рассмотренных факторов (количество детей, семейное положение, уровень дохода, цель кредита) влияет на возврат кретиа вовремя. Однако это влияние порядка 2-4 процентов. Это можно объяснить тем, что в данном наборе данных рассматривались люди с уже одобренным кредитом, поэтому подавляющее большенство из них зведомо были надежными заемщиками. Влияние количества детей можно объяснит так: людям без детей не надо тратить деньги на их образование, еду, одежду или на какие-либо спонтанные расходы, в то же время люди с большим количеством детей уже имею опыт и могу заранее примерно предугадать и рассчитать сумму, которую они потратят на ребенка в ближайшее время. Влияние семейного положения можно объяснить так: люди, состоящие в браке могут оплачивать кредит вместе, что более надежно, чем если бы кредит оплачивал один человек. Вдовы/вдовцы скорее всего получают какую-либо помощь со стороны государства, поэтому являются более надежными заемщиками. Влияние уровня дохода объяснить довольно сложно, люди с наименьшим доходом являются наименее надежными, что вполне закономерно, однако люди со средним, а не с высоким доходом оказались наиболее надежными. Возможно это связано с недостатком данных (людей в некоторых категориях очень мало) или люди с высоким доходом имеют несколько кредитов в разных банках для развития каких-либо идей, поэтому оказываются в среднем менее надежными, чем люди со средним доходом. Влияние целей кредита объясняется тем, что кредит на образование или автомобиль обычно берут молодые люди, не имеющие стабильного большого дохода или работы, в то время как кредит на недвижимость или свадьбу берут уже вставшие на ноги люди."
   ]
  }
 ],
 "metadata": {
  "kernelspec": {
   "display_name": "Python 3 (ipykernel)",
   "language": "python",
   "name": "python3"
  },
  "language_info": {
   "codemirror_mode": {
    "name": "ipython",
    "version": 3
   },
   "file_extension": ".py",
   "mimetype": "text/x-python",
   "name": "python",
   "nbconvert_exporter": "python",
   "pygments_lexer": "ipython3",
   "version": "3.11.5"
  },
  "toc": {
   "base_numbering": 1,
   "nav_menu": {},
   "number_sections": true,
   "sideBar": true,
   "skip_h1_title": true,
   "title_cell": "Table of Contents",
   "title_sidebar": "Contents",
   "toc_cell": false,
   "toc_position": {},
   "toc_section_display": true,
   "toc_window_display": false
  }
 },
 "nbformat": 4,
 "nbformat_minor": 5
}
